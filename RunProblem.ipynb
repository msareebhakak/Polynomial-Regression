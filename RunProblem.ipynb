{
  "nbformat": 4,
  "nbformat_minor": 0,
  "metadata": {
    "kernelspec": {
      "display_name": "Python 3",
      "language": "python",
      "name": "python3"
    },
    "language_info": {
      "codemirror_mode": {
        "name": "ipython",
        "version": 3
      },
      "file_extension": ".py",
      "mimetype": "text/x-python",
      "name": "python",
      "nbconvert_exporter": "python",
      "pygments_lexer": "ipython3",
      "version": "3.7.0"
    },
    "colab": {
      "name": "RunProblem.ipynb",
      "version": "0.3.2",
      "provenance": [],
      "collapsed_sections": [],
      "include_colab_link": true
    }
  },
  "cells": [
    {
      "cell_type": "markdown",
      "metadata": {
        "id": "view-in-github",
        "colab_type": "text"
      },
      "source": [
        "<a href=\"https://colab.research.google.com/github/msareebhakak/Polynomial-Regression/blob/master/RunProblem.ipynb\" target=\"_parent\"><img src=\"https://colab.research.google.com/assets/colab-badge.svg\" alt=\"Open In Colab\"/></a>"
      ]
    },
    {
      "cell_type": "code",
      "metadata": {
        "id": "mutCZLzgrV5R",
        "colab_type": "code",
        "outputId": "66a911ab-af9b-4a24-87dd-a17f435ce4e5",
        "colab": {
          "base_uri": "https://localhost:8080/",
          "height": 68
        }
      },
      "source": [
        "import numpy as np\n",
        "import matplotlib.pyplot as plt\n",
        "import pandas\n",
        "\n",
        "# Function that creates the X matrix as defined for fitting our model\n",
        "def create_X(x,deg):\n",
        "    X = np.ones((len(x),deg+1))\n",
        "    for i in range(1,deg+1):\n",
        "        X[:,i] = x**i\n",
        "    return X\n",
        "\n",
        "# Function for predicting the response\n",
        "def predict_y(x,beta):\n",
        "    return np.dot(create_X(x,len(beta)-1),beta)\n",
        "\n",
        "# Function for fitting the model\n",
        "def fit_beta(df,deg):\n",
        "    return np.linalg.lstsq(create_X(df.x,deg),df.y,rcond=None)[0]\n",
        "\n",
        "# Function for computing the MSE\n",
        "def mse(y,yPred):\n",
        "    return np.mean((y-yPred)**2)\n",
        "\n",
        "# Loading training, validation and test data\n",
        "dfTrain = pandas.read_csv('Data_Train.csv')\n",
        "dfVal = pandas.read_csv('Data_Val.csv')\n",
        "dfTest = pandas.read_csv('Data_Test.csv')\n",
        "\n",
        "############ TRAINING A MODEL\n",
        "\n",
        "# Fitting model\n",
        "deg = 1\n",
        "X = create_X(dfTrain.x,deg)\n",
        "beta = fit_beta(dfTrain,deg)\n",
        "\n",
        "# Computing training error\n",
        "yPredTrain = predict_y(dfTrain.x,beta)\n",
        "err = mse(dfTrain.y,yPredTrain)\n",
        "print('Training Error = {:2.3}'.format(err))\n",
        "\n",
        "# Computing validation error\n",
        "yPredVal = predict_y(dfVal.x,beta)\n",
        "err = mse(dfVal.y,yPredVal)\n",
        "print('Validation Error = {:2.3}'.format(err))\n",
        "\n",
        "# Computing test error\n",
        "yPredTest = predict_y(dfTest.x,beta)\n",
        "err = mse(dfTest.y,yPredTest)\n",
        "print('Test Error = {:2.3}'.format(err))"
      ],
      "execution_count": 26,
      "outputs": [
        {
          "output_type": "stream",
          "text": [
            "Training Error = 0.0258\n",
            "Validation Error = 0.0249\n",
            "Test Error = 0.0154\n"
          ],
          "name": "stdout"
        }
      ]
    },
    {
      "cell_type": "code",
      "metadata": {
        "id": "_nikmMicrV5Y",
        "colab_type": "code",
        "outputId": "80d53999-b37e-4363-e92d-798af0a90a19",
        "colab": {
          "base_uri": "https://localhost:8080/",
          "height": 269
        }
      },
      "source": [
        "############ PLOTTING FITTED MODEL\n",
        "x = np.linspace(0,1,100)\n",
        "y = predict_y(x,beta)\n",
        "\n",
        "plt.plot(x,y,'b-',dfTrain.x,dfTrain.y,'r.')\n",
        "plt.show()"
      ],
      "execution_count": 27,
      "outputs": [
        {
          "output_type": "display_data",
          "data": {
            "image/png": "[encoded data removed]",
            "text/plain": [
              "<Figure size 432x288 with 1 Axes>"
            ]
          },
          "metadata": {
            "tags": []
          }
        }
      ]
    },
    {
      "cell_type": "code",
      "metadata": {
        "id": "mTKymyLBrV5c",
        "colab_type": "code",
        "colab": {
          "base_uri": "https://localhost:8080/",
          "height": 813
        },
        "outputId": "9cd77246-c31d-45fb-8338-fe921ea2d120"
      },
      "source": [
        "############ HYPER-PARAMETER TUNING\n",
        "\n",
        "# Initializing range of degree values to be tested and errors\n",
        "degRange = list(range(1,11))\n",
        "errTrain = np.zeros(len(degRange))\n",
        "errVal = np.zeros(len(degRange))\n",
        "\n",
        "# Computing error as a function of degree\n",
        "for i in degRange:\n",
        "  deg = i\n",
        "  X = create_X(dfTrain.x,deg)\n",
        "  beta = fit_beta(dfTrain,deg)\n",
        "\n",
        "  # Computing training error\n",
        "  yPredTrain = predict_y(dfTrain.x,beta)\n",
        "  err = mse(dfTrain.y,yPredTrain)\n",
        "  errTrain[i-1]=err\n",
        "  print('Training Error = {:2.3}'.format(err))\n",
        "\n",
        "  # Computing validation error\n",
        "  yPredVal = predict_y(dfVal.x,beta)\n",
        "  err = mse(dfVal.y,yPredVal)\n",
        "  errVal[i-1]=err\n",
        "  print('Validation Error = {:2.3}'.format(err))\n",
        "\n",
        "  # Computing test error\n",
        "  yPredTest = predict_y(dfTest.x,beta)\n",
        "  err = mse(dfTest.y,yPredTest)\n",
        "  print('Test Error = {:2.3}'.format(err))\n",
        "    \n",
        "# Plotting training and validation errors\n",
        "plt.plot(degRange,errTrain,'b-',degRange,errVal,'r-')\n",
        "plt.legend(('Training Error','Validation Error'))\n",
        "plt.show()\n",
        "err_min = min(errVal)\n",
        "err_min_index=np.argmin(errVal)\n",
        "print(\"The minimum validation error is\", err_min)\n",
        "print(\"The index at min error is\", err_min_index+1)"
      ],
      "execution_count": 30,
      "outputs": [
        {
          "output_type": "stream",
          "text": [
            "Training Error = 0.0258\n",
            "Validation Error = 0.0249\n",
            "Test Error = 0.0154\n",
            "Training Error = 0.0188\n",
            "Validation Error = 0.0186\n",
            "Test Error = 0.011\n",
            "Training Error = 0.00967\n",
            "Validation Error = 0.00843\n",
            "Test Error = 0.0116\n",
            "Training Error = 0.00929\n",
            "Validation Error = 0.00934\n",
            "Test Error = 0.0113\n",
            "Training Error = 0.00902\n",
            "Validation Error = 0.0109\n",
            "Test Error = 0.013\n",
            "Training Error = 0.00874\n",
            "Validation Error = 0.0108\n",
            "Test Error = 0.0122\n",
            "Training Error = 0.00873\n",
            "Validation Error = 0.0109\n",
            "Test Error = 0.0118\n",
            "Training Error = 0.00873\n",
            "Validation Error = 0.0111\n",
            "Test Error = 0.0119\n",
            "Training Error = 0.00823\n",
            "Validation Error = 0.0152\n",
            "Test Error = 0.0116\n",
            "Training Error = 0.00673\n",
            "Validation Error = 0.0392\n",
            "Test Error = 0.0286\n"
          ],
          "name": "stdout"
        },
        {
          "output_type": "display_data",
          "data": {
            "image/png": "[encoded data removed]",
            "text/plain": [
              "<Figure size 432x288 with 1 Axes>"
            ]
          },
          "metadata": {
            "tags": []
          }
        },
        {
          "output_type": "stream",
          "text": [
            "The minimum validation error is 0.00842720534001476\n",
            "The index at min error is 3\n"
          ],
          "name": "stdout"
        }
      ]
    },
    {
      "cell_type": "code",
      "metadata": {
        "id": "Iyihrw5_rV5f",
        "colab_type": "code",
        "colab": {
          "base_uri": "https://localhost:8080/",
          "height": 51
        },
        "outputId": "cb4d7ee7-a43d-480b-9b8c-63576c314640"
      },
      "source": [
        "############ TRAINING SELECTED MODEL\n",
        "\n",
        "# Concatenating data training and validation data frames\n",
        "li = [dfTrain, dfVal]\n",
        "\n",
        "df = pandas.concat(li, axis=0, ignore_index=True)\n",
        "\n",
        "\n",
        "# Fit model using the optimal degree found in the previous cell\n",
        "degOpt = err_min_index+1\n",
        "\n",
        "deg = degOpt\n",
        "X = create_X(df.x,deg)\n",
        "beta = fit_beta(df,deg)\n",
        "\n",
        "# Computing training error\n",
        "yPredTrain = predict_y(df.x,beta)\n",
        "err = mse(df.y,yPredTrain)\n",
        "print('Training Error = {:2.3}'.format(err))\n",
        "\n",
        "# Computing test error\n",
        "yPredTest = predict_y(dfTest.x,beta)\n",
        "err = mse(dfTest.y,yPredTest)\n",
        "print('Test Error = {:2.3}'.format(err))\n",
        "# Compute and print training and test errors\n"
      ],
      "execution_count": 36,
      "outputs": [
        {
          "output_type": "stream",
          "text": [
            "Training Error = 0.0087\n",
            "Test Error = 0.0108\n"
          ],
          "name": "stdout"
        }
      ]
    },
    {
      "cell_type": "code",
      "metadata": {
        "id": "RSK5m98arV5i",
        "colab_type": "code",
        "colab": {
          "base_uri": "https://localhost:8080/",
          "height": 269
        },
        "outputId": "fb56a2dc-f2a9-4a7b-8bce-410f664bdab4"
      },
      "source": [
        "############ PLOTTING FITTED MODEL\n",
        "# Plot the fitted model as in the second cell\n",
        "# ...\n",
        "x = np.linspace(0,1,100)\n",
        "y = predict_y(x,beta)\n",
        "\n",
        "plt.plot(x,y,'b-',df.x,df.y,'r.')\n",
        "plt.show()"
      ],
      "execution_count": 37,
      "outputs": [
        {
          "output_type": "display_data",
          "data": {
            "image/png": "[encoded data removed]",
            "text/plain": [
              "<Figure size 432x288 with 1 Axes>"
            ]
          },
          "metadata": {
            "tags": []
          }
        }
      ]
    },
    {
      "cell_type": "code",
      "metadata": {
        "id": "a8UedwWJzqMm",
        "colab_type": "code",
        "colab": {}
      },
      "source": [
        ""
      ],
      "execution_count": 0,
      "outputs": []
    }
  ]
}